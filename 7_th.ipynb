{
 "cells": [
  {
   "cell_type": "markdown",
   "id": "9471a3bd-980d-477a-afb4-2da8365eeb38",
   "metadata": {},
   "source": [
    "<p style=\"align: center;\"><img align=center src=\"https://cdnb.artstation.com/p/assets/covers/images/060/407/559/large/vahid-ghobadi-arfai-vahid-ghobadi-arfai-lo.jpg?1678483232\" width=300 height=320/></p>\n",
    "<h3 style=\"text-align: center;\"><b>Семинар №7 ФЭФМ МФТИ</b></h3>"
   ]
  },
  {
   "cell_type": "markdown",
   "id": "d320075c-1c61-4212-98e4-ec61aa35f504",
   "metadata": {},
   "source": [
    "# GUI"
   ]
  },
  {
   "cell_type": "raw",
   "id": "d1b1f16c-190d-47c0-9e34-51d899995307",
   "metadata": {},
   "source": [
    "Графические приложения и интерфейсы\n",
    "GUI (Graphical User Interface) — это графический интерфейс пользователя, оболочка программы, с которой мы взаимодействуем с помощью клавиатуры и мыши. На современных операционных системах почти все программы работают с графическим интерфейсом, и мы каждый день сталкиваемся с GUI: читаем статьи в браузере, набираем текст в редакторе или играем в игры.\n",
    "\n",
    "Противоположность графическому интерфейсу — командная строка, позволяющая управлять приложением с помощью текстовых команд. С этим вы уже частично знакомы по работе с Git.\n",
    "\n",
    "Надо понимать, что не каждому приложению требуется графический интерфейс. Работа через командную строку позволяет достичь большей интерактивности (из-за отсутсвия необходимости реализовывать каждый сценарий работы программы в интерфейсе) и скорости работы с приложением. Однако, очевидно, графический интерфейс более интуитивен и позволяет работать с приложением пользователю, не знакомому с программированием.\n",
    "\n",
    "Для работы с GUI в Python есть разные библиотеки:\n",
    "\n",
    "Tkinter;\n",
    "Python QT;\n",
    "Kivy;\n",
    "wxPython.\n",
    "Пожалуй, наиболее мощным пакетом является PyQT. Но мы выбрали Tkinter, потому что он более прост в освоении и включен в базовый набор библиотек Python (не требует дополнительной установки). К тому же Tk распространяется по BSD-лицензии, поэтому библиотека может быть использована как в опенсорсных проектах, так и в коммерческих наработках. С элементами QT вы познакомитесь на 2 курсе в рамках изучения C++."
   ]
  },
  {
   "cell_type": "markdown",
   "id": "5c88bc86-2f13-4024-81a7-a3d83d5783f8",
   "metadata": {},
   "source": [
    "https://habr.com/ru/articles/284394/"
   ]
  },
  {
   "cell_type": "raw",
   "id": "9e723c0e-670b-402a-8a80-c66029890883",
   "metadata": {},
   "source": [
    "Tkinter\n",
    "Давайте разберёмся, как устроена эта библиотека. Создадим первую программу с использованием Tkinter.\n",
    "\n",
    "В примере ниже для создания графического окна применяется конструктор Tk(), который определен в модуле tkinter. Создаваемое окно присваивается переменной root, и через эту переменную мы можем управлять атрибутами окна. В частности, с помощью метода title() можно установить заголовок окна. С помощью метода geometry() - размер окна. Для установки размера в метод geometry() передается строка в формате \"Ширина x Высота\". Если при создании окна приложения метод geometry() не вызывается, то окно занимает то пространство, которое необходимо для размещения внутреннего содержимого."
   ]
  },
  {
   "cell_type": "code",
   "execution_count": 1,
   "id": "391b294f-4c71-4c1c-9424-6c95c10cde6b",
   "metadata": {},
   "outputs": [],
   "source": [
    "from tkinter import *\n",
    "\n",
    "root = Tk()     # создаем корневой объект - окно\n",
    "root.title(\"Приложение на Tkinter\")     # устанавливаем заголовок окна\n",
    "root.geometry(\"300x300\")    # устанавливаем размеры окна\n",
    " \n",
    "label = Label(text=\"Hello\") # создаем текстовую метку\n",
    "label.pack()    # размещаем метку с текстом  в окне приложения\n",
    " \n",
    "root.mainloop()"
   ]
  },
  {
   "cell_type": "raw",
   "id": "33f95093-809d-4cab-ad74-25fc71859051",
   "metadata": {},
   "source": [
    "Создав окно, мы можем разместить в нем другие графические элементы. Эти элементы еще называются виджетами. В данном случае мы размещаем в окне текст. Для это создаем объект класса Label, которые хранит некоторый текст. Затем для размещения элемента label в окне вызываем у него метод pack().\n",
    "\n",
    "Для отображения окна надо вызвать у него метод mainloop(), который запускает бесконечный цикл обработки событий окна для взаимодействия с пользователем. Чтобы завершить цикл, необходимо закрыть окно.\n",
    "\n",
    "По умолчанию мы можем изменять размеры окна. Тем не менее иногда может потребоваться сделать размер окна фиксированным. В этом случае мы можем использовать метод resizable(). Его первый параметр указывает, может ли пользователь растягивать окно по ширине, а второй параметр - можно ли растягивать по высоте. Например, чтобы запретить растягивание по обоим направлениям можем вызвать resizable(False, False).\n",
    "\n",
    "Также можно установить минимальные и максимальные размеры окна: root.minsize(200,200), root.maxsize(400,400)\n"
   ]
  },
  {
   "cell_type": "markdown",
   "id": "d39f8809-9796-47db-8ca3-4b38a27be839",
   "metadata": {},
   "source": [
    "Конечно, есть и другие объекты помимо окна и надписи)"
   ]
  },
  {
   "cell_type": "markdown",
   "id": "31faa680-0626-4b60-809e-f3562586a6fb",
   "metadata": {},
   "source": [
    "\n",
    "- Button: кнопка\n",
    "\n",
    "- Label: текстовая метка\n",
    "\n",
    "- Entry: однострочное текстовое поле\n",
    "\n",
    "- Text: многострочное текстовое поле\n",
    "\n",
    "- Checkbutton: флажок\n",
    "\n",
    "- Radiobutton: переключатель\n",
    "\n",
    "- Frame: фрейм, который организует виджеты в группы\n",
    "\n",
    "- Listbox: список\n",
    "\n",
    "- Combobox: выпадающий список\n",
    "\n",
    "- Menu: элемент меню\n",
    "\n",
    "- Scrollbar: полоса прокрутки\n",
    "\n",
    "- Treeview: позволяет создавать древовидные и табличные элементы\n",
    "\n",
    "- Spinbox: список значений со стрелками для перемещения по элементам\n",
    "\n",
    "- Canvas: фигура с заливкой\n",
    "\n",
    "- Notebook: панель вкладок"
   ]
  },
  {
   "cell_type": "code",
   "execution_count": 2,
   "id": "2cc5d84e-627b-400f-b664-c95d86f4704e",
   "metadata": {},
   "outputs": [],
   "source": [
    "root = Tk()\n",
    "f = Frame(root)\n",
    "l1 = Label(f, width=7, height=4, bg='yellow', text='1')\n",
    "l2 = Label(f, width=7, height=4, bg='orange', text='2')\n",
    "l3 = Label(f, width=7, height=4, bg='lightgreen', text='3')\n",
    "l4 = Label(f, width=7, height=4, bg='lightblue', text='4')\n",
    " \n",
    "f.pack()\n",
    "l1.pack(side=TOP)\n",
    "l2.pack(side=TOP)\n",
    "l3.pack(side=TOP)\n",
    "l4.pack(side=TOP)\n",
    " \n",
    "root.mainloop()"
   ]
  },
  {
   "cell_type": "code",
   "execution_count": 3,
   "id": "1e36453c-8f8c-409d-b9ec-bf43662d4b59",
   "metadata": {},
   "outputs": [],
   "source": [
    "root = Tk()\n",
    "f_top = Frame(root)\n",
    "f_bot = Frame(root)\n",
    "l1 = Label(f_top, width=7, height=4, bg='yellow', text='1')\n",
    "l2 = Label(f_top, width=7, height=4, bg='orange', text='2')\n",
    "l3 = Label(f_bot, width=7, height=4, bg='lightgreen', text='3')\n",
    "l4 = Label(f_bot, width=7, height=4, bg='lightblue', text='4')\n",
    " \n",
    "f_top.pack()\n",
    "f_bot.pack()\n",
    "l1.pack(side=LEFT)\n",
    "l2.pack(side=LEFT)\n",
    "l3.pack(side=LEFT)\n",
    "l4.pack(side=LEFT)\n",
    " \n",
    "root.mainloop()"
   ]
  },
  {
   "cell_type": "code",
   "execution_count": 4,
   "id": "69af3468-bb1a-4e8c-94d6-12821477287c",
   "metadata": {},
   "outputs": [
    {
     "name": "stdout",
     "output_type": "stream",
     "text": [
      "Кнопка кликнута!\n",
      "Кнопка кликнута!\n"
     ]
    }
   ],
   "source": [
    "root = Tk()\n",
    "root.title(\"Более сложный пример\")\n",
    "\n",
    "frame = Frame(root, bg=\"gray\", width=200, height=100)\n",
    "frame.pack()\n",
    "\n",
    "label = Label(frame, text=\"Не кликайте по кнопке!\", font=(\"Arial\", 14), fg=\"red\", bg=\"#FBFB32\")\n",
    "label.pack(pady=10)\n",
    "\n",
    "button = Button(frame, text=\"Кликни меня!\", command=lambda: print(\"Кнопка кликнута!\"))\n",
    "button.pack(pady=10)\n",
    "\n",
    "text = Text(frame, width=20, height=5)\n",
    "text.pack(pady=10)\n",
    "\n",
    "# Создаем область для рисования\n",
    "canvas = Canvas(frame, width=100, height=100, bg=\"white\")\n",
    "canvas.pack(pady=10)\n",
    "#padx \n",
    "#Параметр pady определяет количество пикселей, которые будут добавлены над и под элементом в виде пустого пространства.\n",
    "# а можно и по-другому\n",
    "#canvas.pack(anchor=CENTER, expand=1)\n",
    "#anchor определяет, как элемент будет располагаться внутри своего контейнера. В данном случае CENTER означает, что элемент будет располагаться по центру своего контейнера.\n",
    "canvas.create_oval(10, 10, 90, 90)  # рисуем круг\n",
    "\n",
    "menu_ = Menu(root)\n",
    "#ножнее подчеркивание для наглядности)\n",
    "root.config(menu=menu_)\n",
    "menu_.add_command(label=\"Сохранить\")\n",
    "menu_.add_command(label=\"Удалить\")\n",
    "menu_.add_command(label=\"Помощь\")\n",
    "\n",
    "root.mainloop()"
   ]
  },
  {
   "cell_type": "markdown",
   "id": "30826386-a05d-4ec4-9e67-9ffb4a96b661",
   "metadata": {},
   "source": [
    "Что умеет делать canvas"
   ]
  },
  {
   "cell_type": "raw",
   "id": "fad45392-48ea-4c9f-aecf-e75e24019c82",
   "metadata": {},
   "source": [
    "create_line(): рисует линию\n",
    "create_line(__x0: float, __y0: float, __x1: float, __y1: float)\n",
    "\n",
    "create_rectangle(): рисует прямоугольник\n",
    "create_rectangle(__x0: float, __y0: float, __x1: float, __y1: float)\n",
    "\n",
    "create_oval(): рисует овал\n",
    "create_oval(__x0: float, __y0: float, __x1: float, __y1: float)\n",
    "- это координаты прямоугольника, в который будет вписан овал)\n",
    "\n",
    "create_arc(): рисует дугу\n",
    "\n",
    "create_polygon(): рисует многоугольник\n",
    "\n",
    "create_text(): добавляет текст\n",
    "\n",
    "create_image(): добавляет изображение\n",
    "\n",
    "create_window(): добавляет виджет"
   ]
  },
  {
   "cell_type": "markdown",
   "id": "731b7e7a-60b1-4d63-8407-2a6cfefd5fb2",
   "metadata": {},
   "source": [
    "Что можно настроить?"
   ]
  },
  {
   "cell_type": "raw",
   "id": "ceddfc75-df4a-4cfd-911d-da4c3cd2d4b6",
   "metadata": {},
   "source": [
    "bg / background: фоновый цвет\n",
    "\n",
    "bd / border: граница\n",
    "\n",
    "borderwidth: толщина границы\n",
    "\n",
    "cursor: курсор\n",
    "\n",
    "height: высота виджета\n",
    "\n",
    "width: ширина виджета"
   ]
  },
  {
   "cell_type": "code",
   "execution_count": 5,
   "id": "cc6f9817-c71e-428b-9943-c72be83dfdb6",
   "metadata": {},
   "outputs": [],
   "source": [
    "root = Tk()\n",
    "root.geometry(\"300x300\")\n",
    " \n",
    "canvas = Canvas(bg=\"white\", width=250, height=200)\n",
    "canvas.pack(anchor=CENTER, expand=1)\n",
    " \n",
    "canvas.create_polygon(10, 30, 200, 200, 200, 30, fill=\"#78DBE2\", outline=\"#9966CC\")\n",
    " \n",
    "root.mainloop()"
   ]
  },
  {
   "cell_type": "markdown",
   "id": "5017ca4e-ebd6-4e2a-a7bf-1540cc55f55e",
   "metadata": {},
   "source": [
    "https://get-color.ru/#9966CC"
   ]
  },
  {
   "cell_type": "markdown",
   "id": "938f2239-7bc9-4c3d-b491-7c98fd60dc0f",
   "metadata": {},
   "source": [
    "### Сделаем кнопку работающей"
   ]
  },
  {
   "cell_type": "code",
   "execution_count": 6,
   "id": "9f26d3f7-38cf-464a-abb5-f898a1d7847a",
   "metadata": {},
   "outputs": [],
   "source": [
    "root = Tk()\n",
    "root.title(\"Работающая кнопка\")\n",
    "\n",
    "frame = Frame(root, bg=\"gray\", width=250, height=250)\n",
    "frame.pack()\n",
    "\n",
    "button = Button(frame, text=\"Нарисовать смайлик\")\n",
    "#button.config(cursor=\"hand2\")  # добавляем курсор \"hand2\" (рука с указателем)\n",
    "button.pack(pady=10)\n",
    "\n",
    "canvas = Canvas(frame, width=100, height=100, bg=\"white\")\n",
    "canvas.pack(pady=10)\n",
    "\n",
    "def draw_smile():\n",
    "    canvas.create_oval(10, 10, 90, 90)  # рисуем круг\n",
    "    canvas.create_oval(30, 40, 40, 50, fill=\"black\")  # рисуем левый глаз\n",
    "    canvas.create_oval(60, 40, 70, 50, fill=\"black\")  # рисуем правый глаз\n",
    "    canvas.create_arc(20, 60, 80, 80, start=0, extent=-180, style=\"arc\")  # рисуем улыбку\n",
    "\n",
    "button.config(command=draw_smile)\n",
    "\n",
    "root.mainloop()"
   ]
  },
  {
   "cell_type": "raw",
   "id": "d95492d9-b904-4d43-bce1-73cfe817de65",
   "metadata": {},
   "source": [
    "Другие варианты:\n",
    "\n",
    "arrow\n",
    "crosshair\n",
    "watch\n",
    "x\n",
    "dotbox\n",
    "none"
   ]
  },
  {
   "cell_type": "raw",
   "id": "8cb6aa7b-de15-48ad-a07f-92b68b67774b",
   "metadata": {},
   "source": [
    "Пример Клима Дмитриевича. Кнопка попугай"
   ]
  },
  {
   "cell_type": "code",
   "execution_count": 7,
   "id": "77abf9ad-f393-4a45-82eb-02cd85192901",
   "metadata": {},
   "outputs": [],
   "source": [
    "root = Tk()\n",
    "root.geometry(\"500x250\")\n",
    "\n",
    "# функция нажатия на кнопку создает новый \n",
    "# *args означает, что функция может принимать любое количество переменных.\n",
    "def callback(*args):\n",
    "   Label(root, text=\"Hello World!\", font=('Montserrat 20 bold')).pack(pady=4) #обратите внимание, что обращаемся к root как к глобальной переменной\n",
    "'''\n",
    "Глобальная переменная в Python — это переменная, которая существует в пространстве имён всего файла программы.\n",
    "'''\n",
    "'''\n",
    "ВАЖНО!\n",
    "Вы передаете функцию в виджет как объект -- поэтому она пишется здесь без скобок.\n",
    "Если напишете со скобками, то она вызовется один раз и передаст как команду результат вызова (в нашем случае -- ничего).\n",
    "Протестируйте это.\n",
    "'''\n",
    "btn = Button(root, text=\"Press Enter\", command = callback) \n",
    "btn.pack(ipadx=50) #ipadx задает размер кнопки по x\n",
    "\n",
    "# делает так, чтобы при нажатии на Enter (эквивалент команды Return) тоже выполнялось callback\n",
    "#Для привязки события к виджету   bind(событие, функция)\n",
    "root.bind('<Return>', callback)\n",
    "\n",
    "root.mainloop()"
   ]
  },
  {
   "cell_type": "code",
   "execution_count": 8,
   "id": "5f935310-e4f3-4699-bcf5-7af6f885edae",
   "metadata": {},
   "outputs": [],
   "source": [
    "root = Tk()\n",
    "root.geometry(\"500x250\")\n",
    "\n",
    "def callback(*args):\n",
    "   Label(root, text=\"Hello World!\", font=('Montserrat 20 bold')).pack(pady=4) #обратите внимание, что обращаемся к root как к глобальной переменной\n",
    "btn = Button(root, text=\"Press +\", command = callback) \n",
    "btn.pack(ipadx=50) #ipadx задает размер кнопки по x\n",
    "\n",
    "# делает так, чтобы при нажатии на + (эквивалент команды Return) тоже выполнялось callback\n",
    "root.bind('<+>', callback)\n",
    "\n",
    "root.mainloop()"
   ]
  },
  {
   "cell_type": "markdown",
   "id": "4a416bfd-9815-427b-8548-d983e67b1b6b",
   "metadata": {},
   "source": [
    "Но мы видим  не все добавленные повторения. Нужна прокрутка!"
   ]
  },
  {
   "cell_type": "code",
   "execution_count": 9,
   "id": "9c3bdb86-c0c6-4ee5-a407-7f43b8a7541c",
   "metadata": {},
   "outputs": [],
   "source": [
    "root = Tk()\n",
    "root.geometry(\"500x250\")\n",
    " \n",
    "def callback(*args):\n",
    "    text_area.insert(END, \"Hello World!\\n\")\n",
    "    text_area.see(END)\n",
    "\n",
    "frame = Frame(root)\n",
    "frame.pack(fill=\"both\", expand=True)\n",
    "\n",
    "# создаем текстовое поле с прокруткой\n",
    "text_area = Text(frame)\n",
    "text_area.pack(side=\"left\", fill=\"both\", expand=True)\n",
    "#True-заполнять все свободное пр-во\n",
    "scrollbar = Scrollbar(frame)\n",
    "scrollbar.pack(side=\"right\", fill=\"y\")\n",
    "\n",
    "text_area.config(yscrollcommand=scrollbar.set)\n",
    "scrollbar.config(command=text_area.yview)\n",
    "#связывает скроллбар с текстовым полем\n",
    "\n",
    "btn = Button(root, text=\"Press Enter\", command=callback)\n",
    "btn.pack(ipadx=50)\n",
    "\n",
    "# делает так, чтобы при нажатии на Enter (эквивалент команды Return) тоже выполнялось callback\n",
    "root.bind('<Return>', callback)\n",
    "\n",
    "\n",
    "root.mainloop()"
   ]
  },
  {
   "cell_type": "markdown",
   "id": "0514c8eb-46db-4b8b-8b67-cd2114bcf6dc",
   "metadata": {},
   "source": [
    "### Сделаем всплывающий текст"
   ]
  },
  {
   "cell_type": "markdown",
   "id": "6a2baa9c-81ce-4443-bb36-a758e0a83a38",
   "metadata": {},
   "source": [
    "Просто появляющийся ниже текст"
   ]
  },
  {
   "cell_type": "code",
   "execution_count": 10,
   "id": "f5dc6643-2e4a-485b-a946-b6c4c7836032",
   "metadata": {},
   "outputs": [],
   "source": [
    "def show_answer():\n",
    "    answer_label.config(text=\"НЕТ!\")\n",
    "\n",
    "root = Tk()\n",
    "root.title(\"Стоит ли прогуливать пары?\")\n",
    "\n",
    "label = Label(root, text=\"Стоит ли прогуливать пары?\", font=(\"Arial\", 14))\n",
    "label.pack()\n",
    "\n",
    "button = Button(root, text=\"Нажми чтобы узнать ответ\", command=show_answer)\n",
    "button.pack()\n",
    "\n",
    "answer_label = Label(root, text=\"\", font=(\"Arial\", 14))\n",
    "answer_label.pack()\n",
    "\n",
    "root.mainloop()"
   ]
  },
  {
   "cell_type": "markdown",
   "id": "ff0fb0a6-f6b1-48c4-bb9b-b3e392f20955",
   "metadata": {},
   "source": [
    "В отдельном окне (так обычно выводят ошибки)"
   ]
  },
  {
   "cell_type": "code",
   "execution_count": 11,
   "id": "2a03cacf-282e-4f9e-8369-264ff54e9cd4",
   "metadata": {},
   "outputs": [],
   "source": [
    "from tkinter import messagebox\n",
    "\n",
    "def show_answer():\n",
    "    messagebox.showinfo(\"Ответ\", \"НЕТ!\")\n",
    "\n",
    "root = Tk()\n",
    "root.title(\"Всплывающий текст_версия2\")\n",
    "\n",
    "label = Label(root, text=\"Стоит ли прогуливать пары?\", font=(\"Arial\", 14))\n",
    "label.pack()\n",
    "\n",
    "button = Button(root, text=\"Нажми чтобы узнать ответ\", command=show_answer)\n",
    "button.pack()\n",
    "\n",
    "root.mainloop()"
   ]
  },
  {
   "cell_type": "markdown",
   "id": "779b2f29-019c-49ba-ad6d-976b0283c41e",
   "metadata": {},
   "source": [
    "# Примеры сложнее от Клима Дмитриевича"
   ]
  },
  {
   "cell_type": "markdown",
   "id": "1b78a7f4-faba-492a-9e48-c06e98adc476",
   "metadata": {
    "jp-MarkdownHeadingCollapsed": true
   },
   "source": [
    "### Пример приложения по переводу футов в метры:"
   ]
  },
  {
   "cell_type": "code",
   "execution_count": 12,
   "id": "ca1a5e6e-0a75-46ea-8cd6-0019ba6b5d26",
   "metadata": {},
   "outputs": [],
   "source": [
    "from tkinter import *\n",
    "from tkinter import ttk\n",
    "\n",
    "# Задаем функцию пересчета. обратите внимание, что к feet и meters мы обращаемся как к глобальным переменным, в общем случае так делать нехорошо\n",
    "# *args означает, что функция может принимать любое количество переменных. здесь они не используется, поэтому для общности написали так\n",
    "def calculate(*args):\n",
    "    try:\n",
    "        value = float(feet.get()) # используем геттер для объекта StringVal\n",
    "        meters.set(int(0.3048 * value * 10000.0 + 0.5)/10000.0) # используем сеттер для объекта StringVal\n",
    "        \n",
    "    except ValueError:\n",
    "        pass\n",
    "\n",
    "# Создадим основное окно приложения\n",
    "root = Tk()\n",
    "root.title(\"Feet to Meters\")\n",
    "\n",
    "'''\n",
    "Зададим виджет Frame с названием mainframe, который будет содержать элементы нашего интерфейса.\n",
    "После того, как мы создали его, grid() помещает его в окно приложения. \n",
    "columnconfigure/rowconfigure говорит что mainframe должен также расширяться\n",
    "и занимать все свободное место при изменении размеров окна\n",
    "'''\n",
    "mainframe = ttk.Frame(root, padding=\"3 3 12 12\")\n",
    "mainframe.grid(column=0, row=0, sticky=(N, W, E, S))\n",
    "'''\n",
    "Параметр padding задаёт размеры полей.  3 пикселя сверху и слева и 12 пикселей снизу и справа.\n",
    "\n",
    "column=0 - указывает, что фрейм будет размещён в первом столбце сетки.\n",
    "row=0 - указывает, что фрейм будет размещён в первом ряду сетки.\n",
    "sticky=(N, W, E, S) — указывает, что фрейм будет растягиваться во всех направлениях \n",
    "'''\n",
    "root.columnconfigure(0, weight=1)\n",
    "root.rowconfigure(0, weight=1)\n",
    "\n",
    "'''\n",
    "Первый виджет Entry должен принимать количество футов.\n",
    "\n",
    "Когда мы создаем виджет, нам нужно указать его родителя.\n",
    "Это виджет, внутри которого будет размещен новый виджет.\n",
    "Наша запись и другие виджеты, которые мы вскоре создадим, считаются дочерними элементами mainframe.\n",
    "Родительский элемент передается в качестве первого параметра при создании экземпляра объекта виджета.\n",
    "\n",
    "Также мы задали, что наше окно ввода должно иметь ширину под 7 символов.\n",
    "\n",
    "Также мы создали глобальную переменную feet как textvariable для Entry. Туда будет сохраняться ввод в поле ввода feet_entry.\n",
    "Когда ввод поменяется, Tkinter автоматически обновит feet. \n",
    "Для задания feet используется конструктор по умолчанию для таких переменных -- StringVar()\n",
    "\n",
    "Tkinter должен знать куда вы хотите поместить виджеты относительно друг друга. \n",
    "За это отвечает функция grid. Она помещает содержимое в column (1, 2, or 3) и row (also 1, 2, or 3) окна.\n",
    "sticky отвечает за то, по какой стороне будет выравнивание. W (west) означает запад, то есть левую сторону ячейки\n",
    "W,E (west-east) означает и левую и правую сторону одновременно, то есть выравнивание посередине.\n",
    "В Python определены константы для направлений компаса, поэтому вы можете писать просто W или (W, E).\n",
    "'''\n",
    "feet = StringVar()\n",
    "feet_entry = ttk.Entry(mainframe, width=7, textvariable=feet)\n",
    "feet_entry.grid(column=2, row=1, sticky=(W, E))\n",
    "\n",
    "'''\n",
    "Дальше создаем окно вывода. \n",
    "'''\n",
    "meters = StringVar()\n",
    "ttk.Label(mainframe, textvariable=meters).grid(column=2, row=2, sticky=(W, E))\n",
    "\n",
    "'''\n",
    "По нажатии на кнопку будем выполнять функцию calculate. Поскольку в ней уже прописаны операции напрямую с feet и meters,\n",
    "то нам не нужно задавать какие-либо аргументы, функция автоматически положит нужное значение в meters и значение в \n",
    "определенном выше Label обновится.\n",
    "'''\n",
    "ttk.Button(mainframe, text=\"Calculate\", command=calculate).grid(column=3, row=3, sticky=W)\n",
    "\n",
    "# косметические подписи, обратите внимание на расположение\n",
    "ttk.Label(mainframe, text=\"feet\").grid(column=3, row=1, sticky=W)\n",
    "ttk.Label(mainframe, text=\"is equivalent to\").grid(column=1, row=2, sticky=E)\n",
    "ttk.Label(mainframe, text=\"meters\").grid(column=3, row=2, sticky=W)\n",
    "\n",
    "# этот цикл позволяет \"разбросать\" элементы подальше друг от друга\n",
    "for child in mainframe.winfo_children(): #этот метод возвращает список всех дочерних виджетов\n",
    "    child.grid_configure(padx=5, pady=5)\n",
    "\n",
    "# сразу помещает курсор ввода в поле feet_entry\n",
    "feet_entry.focus()\n",
    "# делает так, чтобы при нажатии на Enter (эквивалент команды Return) тоже выполнялось calculate\n",
    "root.bind(\"<Return>\", calculate)\n",
    "\n",
    "# циклим наше окно\n",
    "root.mainloop()"
   ]
  },
  {
   "cell_type": "markdown",
   "id": "09cee307-4b56-43c7-8d49-3715ea557893",
   "metadata": {},
   "source": [
    "Так как Клим Дмитриевич упомянул W, S, E, N посмотрим на них еще в одном примере"
   ]
  },
  {
   "cell_type": "markdown",
   "id": "e05a4070-a6c1-4a45-a1f3-544f2f643614",
   "metadata": {
    "jp-MarkdownHeadingCollapsed": true
   },
   "source": [
    "### Прокрутка"
   ]
  },
  {
   "cell_type": "code",
   "execution_count": null,
   "id": "08c4468c-b2a0-476c-897d-7f1f0f211edb",
   "metadata": {},
   "outputs": [],
   "source": [
    "root = Tk()\n",
    "root.title(\"Прокрутка\")\n",
    "root.geometry(\"250x200\")\n",
    " \n",
    "h = Scrollbar(orient=HORIZONTAL)\n",
    "v = Scrollbar(orient=VERTICAL)\n",
    "canvas = Canvas(scrollregion=(0, 0, 1000, 1000), bg=\"white\", yscrollcommand=v.set, xscrollcommand=h.set) #область, которую можно прокручивать\n",
    "#yscrollcommand=v.set указывает, что при прокрутке канвы по вертикальной оси скроллбар v должен обновляться\n",
    "h[\"command\"] = canvas.xview\n",
    "# если будет вызвана, что означает, то канва будет прокручена\n",
    "v[\"command\"] = canvas.yview\n",
    " \n",
    "canvas.grid(column=0, row=0, sticky=(N,W,E,S))\n",
    "h.grid(column=0, row=1, sticky=(W,E))\n",
    "v.grid(column=1, row=0, sticky=(N,S))\n",
    "root.grid_columnconfigure(0, weight=1)\n",
    "root.grid_rowconfigure(0, weight=1)\n",
    "#строка будет расширяться или сжиматься вместе с окном\n",
    " \n",
    "root.mainloop()"
   ]
  },
  {
   "cell_type": "markdown",
   "id": "9f77412e-b634-4aa0-ac4e-ea55d6dfbc98",
   "metadata": {
    "jp-MarkdownHeadingCollapsed": true
   },
   "source": [
    "### Таймер"
   ]
  },
  {
   "cell_type": "code",
   "execution_count": 14,
   "id": "c219f6e7-c9fa-4eef-9033-6e3482498158",
   "metadata": {},
   "outputs": [],
   "source": [
    "import tkinter as Tkinter\n",
    "from datetime import datetime\n",
    "\n",
    "counter = 0\n",
    "running = False\n",
    "\n",
    "def counter_label(label):\n",
    "    def count():\n",
    "        if running:\n",
    "            global counter\n",
    "            # To manage the intial delay. \n",
    "            if counter == 0:\n",
    "                display = 'Ready!'\n",
    "            else:\n",
    "                tt = datetime.utcfromtimestamp(counter) #используем datetime чтобы перевести counter из простого int в часы-минуты-секунды\n",
    "                string = tt.strftime('%H:%M:%S')\n",
    "                display = string\n",
    "\n",
    "            label['text'] = display\n",
    "\n",
    "            label.after(1000, count) # каждые 1000мс = 1с увеличиваем счетчик на 1, рекурсивно вызывая функцию count c задержкой\n",
    "            counter += 1\n",
    "\n",
    "    #включаем count\n",
    "    count()\n",
    "\n",
    "\n",
    "# стартуем\n",
    "def Start(label):\n",
    "    global running\n",
    "    running = True\n",
    "    counter_label(label)\n",
    "    start['state'] = 'disabled'\n",
    "    stop['state'] = 'normal'\n",
    "    reset['state'] = 'normal'\n",
    "\n",
    "\n",
    "# тормозим\n",
    "def Stop():\n",
    "    global running\n",
    "    start['state'] = 'normal'\n",
    "    stop['state'] = 'disabled'\n",
    "    reset['state'] = 'normal'\n",
    "    running = False\n",
    "\n",
    "\n",
    "# перезагружаемся\n",
    "def Reset(label):\n",
    "    global counter\n",
    "    counter = 0\n",
    "    # Если reset нажат после stop. \n",
    "    if not running:\n",
    "        reset['state'] = 'disabled'\n",
    "        label['text'] = '00:00:00'\n",
    "    # Если reset нажат во время работы таймера. \n",
    "    else:\n",
    "        label['text'] = '00:00:00'\n",
    "\n",
    "root = Tkinter.Tk()\n",
    "root.title(\"Stopwatch\")\n",
    "\n",
    "# Если окно будет слишком маленьким, будет сложно нажимать на кнопки, так что зададим minsize.\n",
    "root.minsize(width=250, height=70)\n",
    "\n",
    "label = Tkinter.Label(root, text='Ready!', fg='black', font='Montserrat 30 bold')\n",
    "label.pack()\n",
    "#создадим Frame, на который поместим кнопки\n",
    "f = Tkinter.Frame(root)\n",
    "\n",
    "'''\n",
    "Помните в предыдущем примере мы говорили, что не получится передать в command функцию с круглыми скобками?\n",
    "Но как быть, если мы хотим передать функцию, которая принимает какой-то аргумент? В нашем примере это Start и Reset\n",
    "В данном случае мы можем сохранить **вызов** функции с каким-либо аргументом как отдельную функцию, используя ключевое слово lambda\n",
    "Таким образом, вызова функции не происходит, а saved_start и saved_reset теперь -- объекты-функции, с фиксированным принимаемым аргументом.\n",
    "\n",
    "В общем случае лямбда-функции это более мощный инструмент, однако пока мы не будем на этом останавливаться.\n",
    "'''\n",
    "saved_start = lambda: Start(label)\n",
    "saved_reset = lambda: Reset(label)\n",
    "\n",
    "start = Tkinter.Button(f, text='Start', width=6, command = saved_start)\n",
    "stop = Tkinter.Button(f, text='Stop', width=6, state='disabled', command = Stop)\n",
    "reset = Tkinter.Button(f, text='Reset', width=6, state='disabled', command = saved_reset)\n",
    "\n",
    "# не забываем разместить Frame и кнопки\n",
    "f.pack(anchor='center', pady=5)\n",
    "start.pack(side='left')\n",
    "stop.pack(side='left')\n",
    "reset.pack(side='left')\n",
    "\n",
    "root.mainloop()"
   ]
  },
  {
   "cell_type": "markdown",
   "id": "73e1abe8-0e88-4349-a097-cbd6c2d8b5a7",
   "metadata": {},
   "source": [
    "# А чтобы идти дальше, давайте изучим классы"
   ]
  },
  {
   "cell_type": "markdown",
   "id": "9a079949-7679-4d90-bfac-0aae86fc1662",
   "metadata": {},
   "source": [
    "Класс в Python — это определённая сущность или набор атрибутов.\n"
   ]
  },
  {
   "cell_type": "code",
   "execution_count": null,
   "id": "90ad0e55-d37d-4365-be86-1184e10e99d2",
   "metadata": {},
   "outputs": [],
   "source": [
    "class Example:     \n",
    "    pass"
   ]
  },
  {
   "cell_type": "markdown",
   "id": "ab80350e-bb12-4157-9c9b-64d533ec8f99",
   "metadata": {},
   "source": [
    "Определенный выше класс имеет имя Example и не наследует никакой другой класс. \n",
    "В именах классов каждое слово обычно пишется с большой буквы, но это не требование, а лишь соглашение.\n",
    "\n",
    "Каждая строка в определении класса будет иметь отступ, также как и в случае с функциями, оператором условного перехода if, циклом for или любым другим блоком кода. \n",
    "Класс не содержит определений методов или атрибутов, но с точки зрения синтаксиса, тело класса не может оставаться пустым. В таких случаях используется оператор pass."
   ]
  },
  {
   "cell_type": "raw",
   "id": "00d5b1af-65fc-43f1-bc1b-183d7e12a138",
   "metadata": {},
   "source": [
    " У нас у всех есть некоторое представление о человеке, у которого есть имя, возраст, какие-то другие характеристики. Человек может выполнять некоторые действия - ходить, бегать, думать и т.д. То есть это представление, которое включает набор характеристик и действий, можно назвать классом. Конкретное воплощение этого шаблона может отличаться, например, одни люди имеют одно имя, другие - другое имя. И реально существующий человек будет представлять объект этого класса."
   ]
  },
  {
   "cell_type": "raw",
   "id": "8b673840-1e20-4c61-91ca-018824a819a6",
   "metadata": {},
   "source": [
    "Итак, здесь в коде класса Person определен конструктор - функция __init__. Конструктор должен принимать как минимум один параметр ссылку на текущий объект - self. "
   ]
  },
  {
   "cell_type": "code",
   "execution_count": 15,
   "id": "39b57460-4458-48e7-ad9b-2f87d1ca5288",
   "metadata": {},
   "outputs": [
    {
     "name": "stdout",
     "output_type": "stream",
     "text": [
      "Tom\n",
      "22\n"
     ]
    }
   ],
   "source": [
    "class Person_:\n",
    " \n",
    "    def __init__(self, name_, age):\n",
    "        self.name = name_    \n",
    "        self.age = age      \n",
    " \n",
    " \n",
    "tom = Person_(\"Tom\", 22)\n",
    " \n",
    "# обращение к атрибутам\n",
    "\n",
    "print(tom.name)     \n",
    "print(tom.age)      "
   ]
  },
  {
   "cell_type": "markdown",
   "id": "fceafdfa-c7fe-4e08-9618-3f327c45d154",
   "metadata": {},
   "source": [
    "Атрибуту self.name присваивается значение переменной name. Атрибут age получает значение параметра age. Название атрибутов не обязательно должно соответствовать названиям параметров.\n",
    "\n"
   ]
  },
  {
   "cell_type": "code",
   "execution_count": 16,
   "id": "8cb7565f-d615-4155-875a-0588a7ede1db",
   "metadata": {},
   "outputs": [
    {
     "name": "stdout",
     "output_type": "stream",
     "text": [
      "37\n"
     ]
    }
   ],
   "source": [
    "# изменение значения\n",
    "tom.age = 37\n",
    "print(tom.age)      # 37"
   ]
  },
  {
   "cell_type": "code",
   "execution_count": 17,
   "id": "005bf1db-bb8b-466a-a627-1bcd73f18ac6",
   "metadata": {},
   "outputs": [
    {
     "name": "stdout",
     "output_type": "stream",
     "text": [
      "Microsoft\n"
     ]
    }
   ],
   "source": [
    "class Person:\n",
    " \n",
    "    def __init__(self, name, age):\n",
    "        self.name = name        # имя человека\n",
    "        self.age = age          # возраст человека\n",
    " \n",
    " \n",
    "tom = Person(\"Tom\", 22)\n",
    " \n",
    "tom.company = \"Microsoft\"\n",
    "print(tom.company)  "
   ]
  },
  {
   "cell_type": "code",
   "execution_count": 19,
   "id": "6bc6eaa9-12e3-49ee-92fb-bc56c06e6e4e",
   "metadata": {},
   "outputs": [
    {
     "name": "stdout",
     "output_type": "stream",
     "text": [
      "Engineer\n"
     ]
    },
    {
     "ename": "AttributeError",
     "evalue": "'Person' object has no attribute 'position'",
     "output_type": "error",
     "traceback": [
      "\u001b[1;31m---------------------------------------------------------------------------\u001b[0m",
      "\u001b[1;31mAttributeError\u001b[0m                            Traceback (most recent call last)",
      "Cell \u001b[1;32mIn[19], line 14\u001b[0m\n\u001b[0;32m     12\u001b[0m \u001b[38;5;66;03m# но что если мы создадим новый экземпляр и попробуем обратиться к атрибуту position?\u001b[39;00m\n\u001b[0;32m     13\u001b[0m john \u001b[38;5;241m=\u001b[39m Person(\u001b[38;5;124m\"\u001b[39m\u001b[38;5;124mJohn\u001b[39m\u001b[38;5;124m\"\u001b[39m, \u001b[38;5;241m25\u001b[39m)\n\u001b[1;32m---> 14\u001b[0m \u001b[38;5;28mprint\u001b[39m(john\u001b[38;5;241m.\u001b[39mposition)\n",
      "\u001b[1;31mAttributeError\u001b[0m: 'Person' object has no attribute 'position'"
     ]
    }
   ],
   "source": [
    "class Person:\n",
    "    def __init__(self, name, age):\n",
    "        self.name = name\n",
    "        self.age = age\n",
    "\n",
    "tom = Person(\"Tom\", 22)\n",
    "\n",
    "# но что если мы попробуем изменить значение атрибута, который не существует у всех экземпляров?\n",
    "tom.position = \"Engineer\"\n",
    "print(tom.position)  # Выводит: Engineer\n",
    "\n",
    "# но что если мы создадим новый экземпляр и попробуем обратиться к атрибуту position?\n",
    "john = Person(\"John\", 25)\n",
    "print(john.position)  # Вызовет ошибку AttributeError"
   ]
  },
  {
   "cell_type": "markdown",
   "id": "cad9d5e6-52ed-4e5f-982c-02d80a5f35dc",
   "metadata": {},
   "source": [
    "Методы"
   ]
  },
  {
   "cell_type": "code",
   "execution_count": null,
   "id": "63977c2b-6dc2-415e-9d33-dd580bf77c1c",
   "metadata": {},
   "outputs": [],
   "source": [
    "class Person2:      \n",
    "     def say_hello(self):\n",
    "        print(\"Hello\")\n",
    " \n",
    "tom = Person2()\n",
    "tom.say_hello()    "
   ]
  },
  {
   "cell_type": "code",
   "execution_count": null,
   "id": "4eac7543-2512-4e2c-91ac-1e3dcef07895",
   "metadata": {},
   "outputs": [],
   "source": [
    "class Person4:\n",
    " \n",
    "    def __init__(self, name, age):\n",
    "        self.name = name        # имя человека\n",
    "        self.age = age          # возраст человека\n",
    "     \n",
    "    def display_info(self):\n",
    "        print(f\"Name: {self.name}  Age: {self.age}\")\n",
    " \n",
    " \n",
    "tom = Person4(\"Tom\", 22)\n",
    "tom.display_info() "
   ]
  },
  {
   "cell_type": "markdown",
   "id": "0a4690f3-aec5-4409-804f-564c912d7120",
   "metadata": {},
   "source": [
    "Деструкторы\n"
   ]
  },
  {
   "cell_type": "markdown",
   "id": "b94dba35-3162-4a41-9fa3-8e40932e69e2",
   "metadata": {},
   "source": [
    "роме конструкторов классы в Python также могут определять специальные методы - деструкторы, которые вызываются при удалении объекта. Деструктор представляет собой метод __del__(self), в который, как и в конструктор, передается ссылка на текущий объект. В деструкторе определяются действия, которые надо выполнить при удалении объекта, например, освобождение или удаление каких-то ресурсов, которые использовал объект.\n",
    "\n",
    "Деструктор вызывается автоматически интерпретатором, нам не нужно его явным образом вызывать. Простейший пример:"
   ]
  },
  {
   "cell_type": "code",
   "execution_count": null,
   "id": "d4d576e9-6fdb-441e-89b9-d0874f04937a",
   "metadata": {},
   "outputs": [],
   "source": [
    "class Person3:\n",
    "  \n",
    "    def __init__(self, name):\n",
    "        self.name = name\n",
    "        print(\"Создан человек с именем\", self.name)\n",
    "     \n",
    "    def __del__(self, name):\n",
    "        print(\"Удален человек с именем\", self.name)\n",
    "  \n",
    "tom = Person(\"Tom\")"
   ]
  },
  {
   "cell_type": "markdown",
   "id": "1ee5b16a-3009-434a-aee6-5ff88d2c264c",
   "metadata": {},
   "source": [
    "Еще один пример класса"
   ]
  },
  {
   "cell_type": "code",
   "execution_count": null,
   "id": "fc12f83a-aeb8-4f75-bc3e-5ce30f168871",
   "metadata": {},
   "outputs": [],
   "source": [
    "class DomesticAnimal:\n",
    "    def __init__(self, name, age, species):\n",
    "        self.name = name\n",
    "        self.age = age\n",
    "        self.species = species\n",
    "\n",
    "    def eat(self):\n",
    "        print(f\"{self.name} кушает.\")\n",
    "\n",
    "    def sleep(self):\n",
    "        print(f\"{self.name} спит.\")\n",
    "\n",
    "    def play(self):\n",
    "        print(f\"{self.name} играет.\")\n",
    "\n",
    "    def sound(self):\n",
    "        if self.species == \"собака\":\n",
    "            print(\"Гав!\")\n",
    "        elif self.species == \"кошка\":\n",
    "            print(\"Мяу!\")\n",
    "        else:\n",
    "            print(\"Неизвестный звук.\")\n",
    "\n",
    "    def info(self):\n",
    "        print(f\"Имя: {self.name}, Возраст: {self.age}, Вид: {self.species}\")\n",
    "\n",
    "# Создаем экземпляр класса\n",
    "dog = DomesticAnimal(\"Шарик\", 3, \"собака\")\n",
    "cat = DomesticAnimal(\"Мурзик\", 2, \"кошка\")\n",
    "\n",
    "# Вызываем методы\n",
    "dog.eat()\n",
    "dog.sleep()\n",
    "dog.play()\n",
    "dog.sound()\n",
    "dog.info()\n",
    "\n",
    "cat.eat()\n",
    "cat.sleep()\n",
    "cat.play()\n",
    "cat.sound()\n",
    "cat.info()"
   ]
  },
  {
   "cell_type": "markdown",
   "id": "f8112778-d9d6-4fd3-8895-55d80cce39df",
   "metadata": {},
   "source": [
    "super() это обращение к родительскому классу."
   ]
  },
  {
   "cell_type": "markdown",
   "id": "952a7c16-87c8-465d-8ae9-acc4c4eaf65c",
   "metadata": {},
   "source": [
    "Таким образом мы можем доопределять методы, объявленные в родительском классе, а также обращаться к полям родительского класса."
   ]
  },
  {
   "cell_type": "code",
   "execution_count": null,
   "id": "76cec1d8-814c-4506-919d-4f6b03b12521",
   "metadata": {},
   "outputs": [],
   "source": [
    "class Wild_Animal:\n",
    "    def __init__(self, name, age):\n",
    "        self.name = name\n",
    "        self.age = age\n",
    "        self.wild_dog = \"Волк\"\n",
    "        self.wild_cat = \"Дикая кошка\"\n",
    "\n",
    "\n",
    "class DomesticAnimal(Wild_Animal):\n",
    "    def __init__(self, name, age, species):\n",
    "        super().__init__(name, age)\n",
    "        self.species = species\n",
    "\n",
    "    def play(self):\n",
    "        print(f\"{self.name} играет.\")\n",
    "\n",
    "    def info(self):\n",
    "        print(f\"Имя: {self.name}, Возраст: {self.age}, Вид: {self.species}\")\n",
    "\n",
    "    def wild_info(self):\n",
    "        if self.species == \"собака\":\n",
    "            print(f\"В дикой природе: {self.wild_dog}\")\n",
    "        elif self.species == \"кошка\":\n",
    "            print(f\"В дикой природе: {self.wild_cat}\")\n",
    "\n",
    "# Создаем экземпляр класса\n",
    "dog = DomesticAnimal(\"Шарик\", 3, \"собака\")\n",
    "cat = DomesticAnimal(\"Мурзик\", 2, \"кошка\")\n",
    "\n",
    "# Вызываем методы\n",
    "dog.info()\n",
    "dog.wild_info()\n"
   ]
  },
  {
   "cell_type": "code",
   "execution_count": null,
   "id": "df45a9a2-eecc-4c81-8f2f-16f06f77448b",
   "metadata": {},
   "outputs": [],
   "source": [
    "print(f\"{dog.name} - {dog.age} лет, вид: {dog.species}, в дикой природе: {dog.wild_dog}\")"
   ]
  },
  {
   "cell_type": "code",
   "execution_count": 20,
   "id": "8d314f01-e79f-4b3e-b553-e64755e1df96",
   "metadata": {},
   "outputs": [
    {
     "name": "stdout",
     "output_type": "stream",
     "text": [
      "Привет, меня зовут Tom и мне 22 лет.\n",
      "Я изучаю Python.\n"
     ]
    }
   ],
   "source": [
    "class Persons:\n",
    "    def __init__(self, name, age):\n",
    "        self.name = name\n",
    "        self.age = age\n",
    "\n",
    "    def greet(self):\n",
    "        print(f\"Привет, меня зовут {self.name} и мне {self.age} лет.\")\n",
    "\n",
    "class Student(Persons):\n",
    "    def __init__(self, name, age, course):\n",
    "        super().__init__(name, age) #атрибуты name и age устанавливаются в экземпляре дочернего класса,наследуясь\n",
    "        self.course = course\n",
    "\n",
    "    def study(self):\n",
    "        print(f\"Я изучаю {self.course}.\")\n",
    "\n",
    "tom = Student(\"Tom\", 22, \"Python\")\n",
    "tom.greet()  # Выводит: Привет, меня зовут Tom и мне 22 года.\n",
    "tom.study()  # Выводит: Я изучаю Python."
   ]
  },
  {
   "cell_type": "code",
   "execution_count": 24,
   "id": "8dc7b184-0b5a-42b2-99e3-2b985fead96f",
   "metadata": {},
   "outputs": [],
   "source": [
    "class Person:\n",
    "    def __init__(self, name, age):\n",
    "        self.name = name\n",
    "        self.age = age\n",
    "\n",
    "class Student(Person):\n",
    "    def __init__(self, name, age, course):\n",
    "        Person.__init__(self, name, age)\n",
    "        self.course = course\n",
    "\n",
    "#Вы должны явно указать имя родительского класса, что может быть неудобно, если вы наследуете от нескольких классов.\n",
    "#Вы не можете использовать методы родительского класса, которые имеют то же имя, что и методы дочернего класса.\n"
   ]
  },
  {
   "cell_type": "raw",
   "id": "6bb22435-cb4b-4271-892a-710a76395080",
   "metadata": {},
   "source": [
    "Множественное наследование\n",
    "У класса может быть несколько родителей. Чтобы сделать класс-потомок от нескольких родителей, нужно перечислить их через запятую в скобках после названия класса:\n",
    "\n",
    "class A:\n",
    "    def method_a(self):\n",
    "        print(\"Method A\")\n",
    " \n",
    "class B:\n",
    "    def method_b(self):\n",
    "        print(\"Method B\")\n",
    " \n",
    "class C(A, B):\n",
    "    pass\n",
    " \n",
    "c = C()\n",
    "c.method_a()\n",
    "c.method_b()"
   ]
  },
  {
   "cell_type": "code",
   "execution_count": 25,
   "id": "46d23029-6c2c-4491-ac7e-a3d139eaad06",
   "metadata": {},
   "outputs": [
    {
     "name": "stdout",
     "output_type": "stream",
     "text": [
      "Employee works\n",
      "Student studies\n"
     ]
    }
   ],
   "source": [
    "#  класс работника\n",
    "class Employee:\n",
    "    def work(self):\n",
    "        print(\"Employee works\")\n",
    " \n",
    " \n",
    "#  класс студента\n",
    "class Student:\n",
    "    def study(self):\n",
    "        print(\"Student studies\")\n",
    " \n",
    " \n",
    "class WorkingStudent(Employee, Student):        # Наследование от классов Employee и Student\n",
    "    pass\n",
    " \n",
    " \n",
    "# класс работающего студента\n",
    "tom = WorkingStudent()\n",
    "tom.work() \n",
    "tom.study()   "
   ]
  },
  {
   "cell_type": "markdown",
   "id": "12abd32d-82eb-440d-913d-a303fb4d022d",
   "metadata": {
    "jp-MarkdownHeadingCollapsed": true
   },
   "source": [
    "# Lambda Python"
   ]
  },
  {
   "cell_type": "markdown",
   "id": "61b58252-81a2-4f61-93ac-7fa35a71e46d",
   "metadata": {},
   "source": [
    "Lambda аргументы: выражение"
   ]
  },
  {
   "cell_type": "raw",
   "id": "08642957-516c-40b2-a565-9709c4acc7ce",
   "metadata": {},
   "source": [
    "Лямбда-функции могут иметь любое количество аргументов, но у каждой может быть только одно выражение. Выражение вычисляется и возвращается. Эти функции могут быть использованы везде, где требуется объект-функция."
   ]
  },
  {
   "cell_type": "raw",
   "id": "b4e7e287-79dc-41cf-9ca6-e22cb6369368",
   "metadata": {},
   "source": [
    "Если функцию нужно вызывать многократно, следует написать обычную функцию def"
   ]
  },
  {
   "cell_type": "code",
   "execution_count": null,
   "id": "8cb0c348-49d6-4d2a-b2c7-ec45cb684612",
   "metadata": {},
   "outputs": [],
   "source": [
    "double = lambda x: x*2"
   ]
  },
  {
   "cell_type": "code",
   "execution_count": null,
   "id": "4d60a320-b92a-4874-a13d-d1abe68735d9",
   "metadata": {},
   "outputs": [],
   "source": [
    "def double(x):\n",
    "\t\treturn x * 2"
   ]
  },
  {
   "cell_type": "code",
   "execution_count": null,
   "id": "4c315376-948a-469e-bb7f-dd9d97b4cb7f",
   "metadata": {},
   "outputs": [],
   "source": [
    "def defined_cube(y):\n",
    "    return y*y*y\n",
    "\n",
    "\n",
    "lambda_cube = lambda y: y*y*y\n",
    "print(defined_cube(2))\n",
    "print(lambda_cube(2))"
   ]
  },
  {
   "cell_type": "raw",
   "id": "5497c83d-fb2b-4a0a-bc82-9c27d1be41f8",
   "metadata": {},
   "source": [
    "Без использования лямбды: Здесь обе функции возвращают заданное значение, возведенное в куб. Но при использовании def, нам пришлось определить функцию с именем defined_cube() дать ей входную величину.  После выполнения нам также понадобилось возвратить результат, из того места, откуда была вызвана функция, и мы сделали это, используя ключевое слово return.\n",
    "\n",
    "С применением лямбды: Определение лямбды не включает оператор return, а всегда содержит возвращенное выражение. Мы также можем поместить определение лямбды в любое место, где ожидается функция, и нам не нужно присваивать его переменной."
   ]
  },
  {
   "cell_type": "markdown",
   "id": "ddc4dad8-6f78-4a18-b28d-551933855c4b",
   "metadata": {},
   "source": [
    "Сочетания"
   ]
  },
  {
   "cell_type": "code",
   "execution_count": null,
   "id": "5dae3bef-10a4-4741-a088-84c2790c4eac",
   "metadata": {},
   "outputs": [],
   "source": [
    "my_list = [1, 3, 4, 6, 10, 11, 15, 12, 14]\n",
    "new_list = list(filter(lambda x: (x%2 == 0) , my_list))\n",
    "print(new_list)"
   ]
  },
  {
   "cell_type": "code",
   "execution_count": null,
   "id": "e75317a2-e4ef-4fe4-99ed-0bd2f28e3234",
   "metadata": {},
   "outputs": [],
   "source": [
    "current_list = [1, 3, 4, 6, 10, 11, 15, 12, 14]\n",
    "new_list = list(map(lambda x: x*2 , current_list))\n",
    "#map — это функция в Python, которая применяет заданную функцию к каждому элементу в списке или другом итерируемом объекте.\n",
    "print(new_list)"
   ]
  },
  {
   "cell_type": "code",
   "execution_count": null,
   "id": "0b670c98-9b2f-4ab2-81bd-6b7a289af818",
   "metadata": {},
   "outputs": [],
   "source": [
    "tables = [lambda x = x: x*10 for x in range(1, 11)]\n",
    "for table in tables:\n",
    "    print(table())"
   ]
  },
  {
   "cell_type": "raw",
   "id": "aabfab0e-2710-49ed-96d3-8bd02e15ae54",
   "metadata": {},
   "source": [
    "если бы мы просто написали lambda x: x*10, то все функции в списке имели бы один и тот же аргумент x, что привело бы к проблемам при вызове функции (попробуйте).\n",
    "\n",
    "Чтобы избежать этой проблемы, мы используем трюк с x = x в синтаксисе lambda. Это позволяет каждой функции иметь свой собственный аргумент x, который будет иметь значение соответствующего элемента в списке range(1, 11)."
   ]
  },
  {
   "cell_type": "markdown",
   "id": "2c73989e-ecc9-45a4-bead-da77a4950d0d",
   "metadata": {},
   "source": [
    "# Вернемся к GUI"
   ]
  },
  {
   "cell_type": "markdown",
   "id": "4db143be-baaf-42d3-a76b-0bc79cbfd045",
   "metadata": {
    "jp-MarkdownHeadingCollapsed": true
   },
   "source": [
    "### Тест"
   ]
  },
  {
   "cell_type": "code",
   "execution_count": null,
   "id": "ba586b94-db5a-4cd6-bced-d861cce7dd3a",
   "metadata": {},
   "outputs": [],
   "source": [
    "class Test:\n",
    "    def __init__(self):\n",
    "        self.window = Tk()\n",
    "        self.window.title(\"Собачник или кошатник?\")\n",
    "\n",
    "        self.question1_label = Label(self.window, text=\"Кто более милый?\")\n",
    "        self.question1_label.pack()\n",
    "\n",
    "        self.answer1_var = StringVar()\n",
    "        #Создаем переменную с помощью StringVar, которая будет хранить выбранный вариант ответа.\n",
    "        self.answer1_combobox = ttk.Combobox(self.window, textvariable=self.answer1_var)\n",
    "        #textvariable=self.answer1_var оначает, что выбранный вариант ответа будет храниться в переменной self.answer1_var\n",
    "        self.answer1_combobox['values'] = (\"Собака\", \"Кошка\")\n",
    "        self.answer1_combobox.pack()\n",
    "\n",
    "        self.question2_label = Label(self.window, text=\"Какие качества самые важные для Вашего идеального питомца?\")\n",
    "        self.question2_label.pack()\n",
    "\n",
    "        self.answer2_var = StringVar()\n",
    "        self.answer2_combobox = ttk.Combobox(self.window, textvariable=self.answer2_var)\n",
    "        self.answer2_combobox['values'] = (\"Верность и обучаемость\", \"Самодостаточность и чистоплотность\")\n",
    "        self.answer2_combobox.pack()\n",
    "\n",
    "        self.result_button = Button(self.window, text=\"Показать результат\", command=self.show_result)\n",
    "        self.result_button.pack()\n",
    "\n",
    "    def show_result(self):\n",
    "        answer1 = self.answer1_var.get()\n",
    "        #: получим значение, выбранное пользователем в первом вопросе, и сохраним его в переменной \n",
    "        answer2 = self.answer2_var.get()\n",
    "\n",
    "        if ( answer1 == \"Собака\" and answer2 == \"Верность и обучаемость\") :\n",
    "            result = \"Вы - Собачник!\"\n",
    "        elif (answer1 == \"Кошка\" and answer2 == \"Самодостаточность и чистоплотность\"):\n",
    "            result = \"Вы - Кошатник!\"\n",
    "        else:\n",
    "            result = \"Вы - не определились!\"\n",
    "\n",
    "        self.result_label = Label(self.window, text=result)\n",
    "        self.result_label.pack()\n",
    "\n",
    "    def run(self):\n",
    "        self.window.mainloop()\n",
    "\n",
    "Test().run()"
   ]
  },
  {
   "cell_type": "markdown",
   "id": "7be50b84-3e52-4294-ad4e-25b1340326ca",
   "metadata": {
    "jp-MarkdownHeadingCollapsed": true
   },
   "source": [
    "### Блокнот"
   ]
  },
  {
   "cell_type": "code",
   "execution_count": null,
   "id": "4c0fa051-43dd-41e4-a05f-8af04365079f",
   "metadata": {},
   "outputs": [],
   "source": [
    "from tkinter import filedialog, messagebox\n",
    "\n",
    "class Notepad:\n",
    "    def __init__(self, root):\n",
    "        self.root = root\n",
    "        self.root.title(\"Блокнот\")\n",
    "        self.root.geometry(\"800x600\")\n",
    "\n",
    "        self.menu = Menu(self.root)\n",
    "        self.root.config(menu=self.menu)\n",
    "\n",
    "        self.file_menu = Menu(self.menu)\n",
    "        self.menu.add_cascade(label=\"Файл\", menu=self.file_menu)\n",
    "        self.file_menu.add_command(label=\"Новый\", command=self.new_file)\n",
    "        self.file_menu.add_command(label=\"Открыть...\", command=self.open_file)\n",
    "        self.file_menu.add_command(label=\"Сохранить\", command=self.save_file)\n",
    "        self.file_menu.add_command(label=\"Сохранить как...\", command=self.save_as_file)\n",
    "        self.file_menu.add_command(label=\"Закрыть\", command=self.root.quit)\n",
    "\n",
    "        self.text_area = Text(self.root)\n",
    "        self.text_area.pack(fill=BOTH, expand=1)\n",
    "\n",
    "\n",
    "    def new_file(self):\n",
    "        self.text_area.delete(1.0, END)\n",
    "        self.root.title(\"Untitled\")\n",
    "\n",
    "    def open_file(self):\n",
    "        file_path = filedialog.askopenfilename(title=\"Open File\", filetypes=[(\"Text Files\", \"*.txt\")])\n",
    "        if file_path:\n",
    "            with open(file_path, \"r\") as file:\n",
    "                self.text_area.delete(1.0, END)\n",
    "                self.text_area.insert(END, file.read())\n",
    "                self.root.title(file_path)\n",
    "\n",
    "    def save_file(self):\n",
    "        file_path = self.root.title()\n",
    "        if file_path == \"Untitled\":\n",
    "            self.save_as_file()\n",
    "        else:\n",
    "            with open(file_path, \"w\") as file:\n",
    "                file.write(self.text_area.get(1.0, END))\n",
    "\n",
    "    def save_as_file(self):\n",
    "        file_path = filedialog.asksaveasfilename(title=\"Save As\", defaultextension=\".txt\", filetypes=[(\"Text Files\", \"*.txt\")])\n",
    "        if file_path:\n",
    "            with open(file_path, \"w\") as file:\n",
    "                file.write(self.text_area.get(1.0, END))\n",
    "                self.root.title(file_path)\n",
    "\n",
    "    def run(self):\n",
    "        self.root.mainloop()\n",
    "\n",
    "root = Tk()\n",
    "Notepad(root).run()"
   ]
  },
  {
   "cell_type": "markdown",
   "id": "6a657a00-06be-4d6f-8323-7be0ff189219",
   "metadata": {
    "jp-MarkdownHeadingCollapsed": true
   },
   "source": [
    "### Крестики нолики"
   ]
  },
  {
   "cell_type": "code",
   "execution_count": null,
   "id": "bbcd1aaa-e921-48d6-8008-cd66d071e080",
   "metadata": {},
   "outputs": [],
   "source": [
    "class TicTacToe:\n",
    "    def __init__(self):\n",
    "        self.root = Tk()\n",
    "        self.root.title(\"Крестики-Нолики\")\n",
    "        self.frame = Frame(self.root)\n",
    "        self.frame.pack()\n",
    "\n",
    "        self.buttons = []\n",
    "        for i in range(3):\n",
    "            row = []\n",
    "            for j in range(3):\n",
    "                button = Button(self.frame, text=\"\", width=5, height=2, command=lambda i=i, j=j: self.click(i, j))\n",
    "                button.grid(row=i, column=j)\n",
    "                row.append(button)\n",
    "            self.buttons.append(row)\n",
    "\n",
    "        self.reset_button = Button(self.root, text=\"Сброс\", command=self.reset)\n",
    "        self.reset_button.pack()\n",
    "\n",
    "        self.current_player = \"X\"\n",
    "\n",
    "    def click(self, i, j):\n",
    "        if self.buttons[i][j]['text'] == \"\":\n",
    "            self.buttons[i][j]['text'] = self.current_player\n",
    "            if self.check_win():\n",
    "                self.game_over()\n",
    "            else:\n",
    "                self.current_player = \"O\" if self.current_player == \"X\" else \"X\"\n",
    "\n",
    "    def check_win(self):\n",
    "        for i in range(3):\n",
    "            if self.buttons[i][0]['text'] == self.buttons[i][1]['text'] == self.buttons[i][2]['text']!= \"\":\n",
    "                return True\n",
    "            if self.buttons[0][i]['text'] == self.buttons[1][i]['text'] == self.buttons[2][i]['text']!= \"\":\n",
    "                return True\n",
    "        if self.buttons[0][0]['text'] == self.buttons[1][1]['text'] == self.buttons[2][2]['text']!= \"\":\n",
    "            return True\n",
    "        if self.buttons[0][2]['text'] == self.buttons[1][1]['text'] == self.buttons[2][0]['text']!= \"\":\n",
    "            return True\n",
    "        return False\n",
    "\n",
    "    def game_over(self):\n",
    "        for row in self.buttons:\n",
    "            for button in row:\n",
    "                button['state'] = 'disabled'\n",
    "        self.reset_button['text'] = \"Поздравляем, игрок \" + self.current_player + \" победил!\"\n",
    "\n",
    "    def reset(self):\n",
    "        for row in self.buttons:\n",
    "            for button in row:\n",
    "                button['text'] = \"\"\n",
    "                button['state'] = 'normal'\n",
    "        self.current_player = \"X\"\n",
    "        self.reset_button['text'] = \"Сброс\"\n",
    "\n",
    "    def run(self):\n",
    "        self.root.mainloop()\n",
    "\n",
    "TicTacToe().run()"
   ]
  },
  {
   "cell_type": "markdown",
   "id": "1050905f-fcf8-4ebb-960b-7ddeb769f029",
   "metadata": {
    "jp-MarkdownHeadingCollapsed": true
   },
   "source": [
    "### Пример Клима Дмитриевича"
   ]
  },
  {
   "cell_type": "markdown",
   "id": "295cc06d-d45a-4a3f-9ff4-b6c4eae530a5",
   "metadata": {
    "jp-MarkdownHeadingCollapsed": true
   },
   "source": [
    "### Шарики"
   ]
  },
  {
   "cell_type": "code",
   "execution_count": null,
   "id": "ba2b2155-6ba1-4733-b67e-af2072b9be9c",
   "metadata": {},
   "outputs": [],
   "source": [
    "from random import randint\n",
    "\n",
    "WIDTH = 300\n",
    "HEIGHT = 200\n",
    "\n",
    "\n",
    "class Ball:\n",
    "    def __init__(self):\n",
    "        self.R = randint(10, 50) #храним размер, при каждом создании объекта будет выбираться случайно\n",
    "        self.x = randint(self.R, WIDTH - self.R) # храним положение по x и y\n",
    "        self.y = randint(self.R, HEIGHT - self.R)\n",
    "        self.dx, self.dy = (10, 10) # это по сути шаг движения шаров. если увеличить -- будут двигаться быстрее\n",
    "        self.ball_id = canvas.create_oval(self.x - self.R,\n",
    "                                     self.y - self.R,\n",
    "                                     self.x + self.R,\n",
    "                                     self.y + self.R, fill=\"green\") # при создании шарика отрисовываем его\n",
    "\n",
    "    def move(self):\n",
    "        self.x += self.dx\n",
    "        self.y += self.dy\n",
    "        if self.x + self.R > WIDTH or self.x - self.R <= 0: # отражение от стенок\n",
    "            self.dx = -self.dx\n",
    "        if self.y + self.R > HEIGHT or self.y - self.R <= 0: # отр\n",
    "            self.dy = -self.dy\n",
    "\n",
    "    def show(self):\n",
    "        canvas.move(self.ball_id, self.dx, self.dy)\n",
    "\n",
    "\n",
    "def click_handler(event):\n",
    "    print('Положение! x=', event.x, 'y=', event.y)\n",
    "\n",
    "#здесь мы уже привычно обращаемся к balls как к глобальной переменной. На самом деле дело в том, что нам лень писать классы.\n",
    "def tick():\n",
    "    for ball in balls:\n",
    "        ball.move()\n",
    "        ball.show()\n",
    "    root.after(50, tick)\n",
    "\n",
    "\n",
    "root = Tk()\n",
    "root.geometry(f'{WIDTH}x{HEIGHT}')\n",
    "canvas = Canvas(root)\n",
    "canvas.pack()\n",
    "#сделаем так, чтобы нажатие левой кнопки на поле выводило координаты точки, в которую мы нажали\n",
    "canvas.bind('<Button-1>', click_handler)\n",
    "balls = [Ball() for i in range(5)]\n",
    "# делаем шаг перемещения и отрисовки шаров. поскольку mainloop циклит наше приложение, это будет происходить, пока мы не закроем окно\n",
    "tick()\n",
    "root.mainloop()"
   ]
  }
 ],
 "metadata": {
  "kernelspec": {
   "display_name": "Python 3 (ipykernel)",
   "language": "python",
   "name": "python3"
  },
  "language_info": {
   "codemirror_mode": {
    "name": "ipython",
    "version": 3
   },
   "file_extension": ".py",
   "mimetype": "text/x-python",
   "name": "python",
   "nbconvert_exporter": "python",
   "pygments_lexer": "ipython3",
   "version": "3.11.7"
  }
 },
 "nbformat": 4,
 "nbformat_minor": 5
}
