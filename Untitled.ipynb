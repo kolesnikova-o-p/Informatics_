{
 "cells": [
  {
   "cell_type": "code",
   "execution_count": 1,
   "id": "4dc0381f-40a8-4cfd-a407-4ca35b6120f4",
   "metadata": {},
   "outputs": [
    {
     "data": {
      "text/plain": [
       "0.7410972672646917"
      ]
     },
     "execution_count": 1,
     "metadata": {},
     "output_type": "execute_result"
    }
   ],
   "source": [
    "import math\n",
    "\n",
    "# Данные задачи\n",
    "p_GeV = 10  # Импульс в ГэВ/c\n",
    "m_MeV = 1869.65  # Масса в МэВ/c^2\n",
    "tau_s = 1.040e-12  # Среднее время жизни в секундах\n",
    "r_min_m = 0.5e-3  # Минимальное расстояние в метрах\n",
    "\n",
    "# Перевод в СИ\n",
    "p = p_GeV * 1e9  # Импульс в эВ/c\n",
    "m = m_MeV * 1e6  # Масса в эВ/c^2\n",
    "\n",
    "# Энергия мезона E = sqrt((pc)^2 + (mc^2)^2)\n",
    "E = math.sqrt(p**2 + m**2)\n",
    "\n",
    "# Фактор Лоренца gamma = E / (mc^2)\n",
    "gamma = E / m\n",
    "\n",
    "# Скорость v = c * sqrt(1 - 1/gamma^2)\n",
    "c = 3e8  # Скорость света в м/с\n",
    "v = c * math.sqrt(1 - 1/gamma**2)\n",
    "\n",
    "# Теперь вычислим долю частиц, не распавшихся на расстоянии r_min\n",
    "P = math.exp(-r_min_m / (gamma * v * tau_s))\n",
    "\n",
    "# Ответ\n",
    "P"
   ]
  },
  {
   "cell_type": "code",
   "execution_count": null,
   "id": "ae3f9220-5e2a-4fef-81b0-035a5fc33ce8",
   "metadata": {},
   "outputs": [],
   "source": []
  }
 ],
 "metadata": {
  "kernelspec": {
   "display_name": "Python 3 (ipykernel)",
   "language": "python",
   "name": "python3"
  },
  "language_info": {
   "codemirror_mode": {
    "name": "ipython",
    "version": 3
   },
   "file_extension": ".py",
   "mimetype": "text/x-python",
   "name": "python",
   "nbconvert_exporter": "python",
   "pygments_lexer": "ipython3",
   "version": "3.11.7"
  }
 },
 "nbformat": 4,
 "nbformat_minor": 5
}
